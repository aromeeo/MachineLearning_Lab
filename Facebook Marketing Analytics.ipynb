{
 "cells": [
  {
   "cell_type": "markdown",
   "metadata": {},
   "source": [
    "# Facebook Marketing Analytics\n",
    "- <a href=\"https://www.facebook.com/business/help/447834205249495\">Glossary of Ad Terms</a><br>\n",
    "- <a href=\"#cpa\">Cost Per Action</a><br>\n",
    "- <a href=\"#ctr\">Click-through Rate</a><br>\n",
    "- <a href=\"#cpm\">Cost Per Mille</a><br>\n",
    "- <a href=\"#cpc\">Cost Per Click</a><br>\n",
    "- <a href=\"#cr\">Conversion Rate</a><br>\n",
    "- <a href=\"#cva\">Click and View-Through Attribution</a><br>"
   ]
  },
  {
   "cell_type": "markdown",
   "metadata": {},
   "source": [
    "<p><a name=\"cpa\"></a></p>\n",
    "\n",
    "## **1. Cost Per Action (CPA)**\n",
    "The action you want your audience to take can be a number of things, like:\n",
    "- sharing, liking or commenting on a piece of content\n",
    "- subscribing to your blog\n",
    "- watching a video\n",
    "- downloading your whitepaper\n",
    "- adding a product to their cart\n",
    "- purchasing a product<br>\n",
    "\n",
    "If you can determine how much you can afford to pay for that action while *at least* breaking even.\n",
    "### Using CPA to measure campaign success\n",
    "Example: <br>**1 out of every 5 people** that add something to their cart end up making a purchase.  Furthermore, your **average order value** is \\$100."
   ]
  },
  {
   "cell_type": "code",
   "execution_count": 5,
   "metadata": {},
   "outputs": [
    {
     "name": "stdout",
     "output_type": "stream",
     "text": [
      "Conversion Rate: 20.0\n"
     ]
    }
   ],
   "source": [
    "CR = 1/5*100\n",
    "print('Conversion Rate: {}'.format(CR))"
   ]
  },
  {
   "cell_type": "code",
   "execution_count": 8,
   "metadata": {},
   "outputs": [
    {
     "name": "stdout",
     "output_type": "stream",
     "text": [
      "Average Order Value: $100\n"
     ]
    }
   ],
   "source": [
    "AOV = 100\n",
    "print('Average Order Value: ${}'.format(AOV))"
   ]
  },
  {
   "cell_type": "markdown",
   "metadata": {},
   "source": [
    "Over the long run, you need an **average of 5 people** to add a product to their cart in order to generate **\\$100 in revenue** (1 sale).\n",
    "<br>\n",
    "Therefore, **5 add to cart events = \\$100 in revenue**. <br>\n",
    "Knowing this, how much can you spend for each add to cart event without losting money(profit margins aside)?\n",
    "> \\$100 made for every 5 add to cart events \\\\$20 dollars per add to cart event "
   ]
  },
  {
   "cell_type": "markdown",
   "metadata": {},
   "source": [
    "<p><a name=\"ctr\"></a></p>\n",
    "\n",
    "## **2. Click-through Rate (CTR)**\n",
    "A way to gauge how well your audience is responding to your ad creative <br>\n",
    "It is the ratio of clicks an ad receives to the number of times it was viewed by its audience\n",
    "> divide the number of clicks by the number of views of a particular ad and multiplying the result with 100\n",
    "### How to analyze click-through rates\n",
    "- rule of thumb: let our ads hit the **10,000 impressions mark** before making any decisions based on CTR\n",
    "- typically, anything **below 1% CTR** gets turned off because we're confident that we can do better than that\n",
    "    - we're talking regular old banner ads here...CTRs on other ad formats are typically higher\n",
    "- ads in the **1-2% CTR range** are closely monitored and analyzed alongside their relevant CPA metrics to see if they're actually generating revenue\n",
    "- ads in the **2% CTR range** make the second round, and we try to bump that number up over time as high as possible by testing \"similar but different\" ad creatives and copy<br>\n",
    "\n",
    "Low CTRs across the board mean we've got an audience problem"
   ]
  },
  {
   "cell_type": "markdown",
   "metadata": {},
   "source": [
    "<p><a name=\"cpm\"></a></p>\n",
    "\n",
    "## **3. Cost per Mille (aka Per Thousand Impressions) (CPM)**\n",
    "The average cost you paid to have 1,000 impressions for your ad.<br>\n",
    "> The metric is calculated as the total amount spent, divided by reach, multiplied by 1,000.\n",
    "- An impression is anytime the ad is shown on the screen (doesn't guarentee the ad was actually seen).<br>\n",
    "- The **easy metric** becuase it's the perfect benchmark to use when comparing different campaigns and ad sets against each other.\n",
    "- Typically used as a performance measurement for the cost-efficiency of an ad campaign.\n",
    "### Using CPM to compare Facebook Ad Campaigns\n",
    "Here, the average CPM across campaigns is \\$5.34 <br><br>\n",
    "<img src=\"https://webrunnermedia.com/wp-content/uploads/2017/05/cpm-analysis.png\" alt=\"Examples of Campaign\" title=\"Title text\"><br>\n",
    "You can also compare different ad sets against each other.<br>\n",
    "Below, both ad sets served just over **80,000 impressions**, but the **CPM** of the add set highlighted in green was almost $2 cheaper than the ad set highlighted in red:<br><br>\n",
    "<img src=\"https://webrunnermedia.com/wp-content/uploads/2017/05/facebook-ads-cpm-comparison.png\"><br><br>\n",
    "If impressions on your ad increase and clicks decrease, your cost will increase and you may need to switch back to CPC pricing."
   ]
  },
  {
   "cell_type": "markdown",
   "metadata": {},
   "source": [
    "<p><a name=\"cpc\"></a></p>\n",
    "\n",
    "## **4. Cost Per Click (CPC)**\n",
    "If you use CPC pricing, you only pay when someone clicks on your Facebook Ad.\n",
    "> The metric is calculated as the total amount spent divided by clicks (all).<br>\n",
    "**Clicks (all):**\n",
    "- Link clicks\n",
    "- Post likes, comments or shares\n",
    "- Clicks to a Facebook Page or Instagram profile\n",
    "- Clicks to expand a photo or video to full screen"
   ]
  },
  {
   "cell_type": "markdown",
   "metadata": {},
   "source": [
    "<p><a name=\"cr\"></a></p>\n",
    "\n",
    "## **5. Conversion Rate (CR)**"
   ]
  },
  {
   "cell_type": "markdown",
   "metadata": {},
   "source": [
    "<p><a name=\"cva\"></a></p>\n",
    "\n",
    "## **6. Click- and View-Through Attribution**\n",
    "When a person sees your ad on Facebook, Instagram or the Audience Network, there are several actions that they can take, including watching a video in the ad or visiting your website and buying a product.\n",
    "- If someone **clicked your ad and then purchased a product on your website**, that purchase would be reported under **click-through attribution**\n",
    "- If someone **viewed your ad and then purchased the product**, that purchase would be reported under **view-through attribution**\n",
    "- If both an view and a click occur, Facebook only registers **the click** for purposes of attribution<br>\n",
    "\n",
    "### Attribution Windows\n",
    "\n",
    "The number of days between when a person viewed or clicked your ad and then subsequently took an action is called an **attribution window**.\n",
    "- **Clicks**: A person clicked your ad and took an action. This is called click-through attribution.\n",
    "- **Views**: A person saw your ad, didn't click it, but took an action within the attribution window. This is called view-through attribution.<br><br>\n",
    "By default, your attribution window is set to 1-day view and 28-day click, which means you see actions that happened 1 day after someone viewed your ad and up to 28 days after someone clicked your ad.<br><br>\n",
    "In the scenario below, the ad objective was to increase sales on a website. Facebook will attribute a purchase to the ad click that occurred on Feb 4, and this will be reflected in the Results column.<br><br>\n",
    "<img src=\"https://scontent-lga3-1.xx.fbcdn.net/v/t39.2365-6/17639177_213273505829643_8262259966346264576_n.png?_nc_cat=106&_nc_ht=scontent-lga3-1.xx&oh=f8bd6acac328d879bb0a83c56d6264ff&oe=5C4C219B\" ><br>\n",
    "- Click-through attribution may include engagement clicks, such as likes, comments or shares on your ad. This means if someone liked your ad, conversions would be attributed to the click-through attribution window you've selected.\n",
    "- Any events outside the maximum conversion window (28 days) are not counted."
   ]
  },
  {
   "cell_type": "code",
   "execution_count": null,
   "metadata": {},
   "outputs": [],
   "source": []
  }
 ],
 "metadata": {
  "kernelspec": {
   "display_name": "Python 3",
   "language": "python",
   "name": "python3"
  },
  "language_info": {
   "codemirror_mode": {
    "name": "ipython",
    "version": 3
   },
   "file_extension": ".py",
   "mimetype": "text/x-python",
   "name": "python",
   "nbconvert_exporter": "python",
   "pygments_lexer": "ipython3",
   "version": "3.7.0"
  }
 },
 "nbformat": 4,
 "nbformat_minor": 2
}
